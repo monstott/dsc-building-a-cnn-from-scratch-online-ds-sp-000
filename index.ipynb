{
 "cells": [
  {
   "cell_type": "markdown",
   "metadata": {},
   "source": [
    "# Building a CNN from Scratch - Lab\n",
    "\n",
    "## Introduction\n",
    "\n",
    "Now that you have background knowledge regarding how CNNs work and how to implement them via Keras, its time to practice those skills a little more independently in order to build a CNN on your own to solve a image recognition problem. In this lab, you'll practice building an image classifier from start to finish using a CNN.  \n",
    "\n",
    "## Objectives\n",
    "\n",
    "You will be able to:\n",
    "* Transform images into tensors\n",
    "* Build a CNN model for image recognition"
   ]
  },
  {
   "cell_type": "markdown",
   "metadata": {},
   "source": [
    "## Loading the Images\n",
    "\n",
    "The data for this lab concerns classifying lung xray images for pneumonia. The original dataset is from kaggle. We have downsampled this dataset in order to reduce training time for you when you design and fit your model to the data. ⏰ It is anticipated that this process will take approximately 1 hour to run on a standard machine, although times will vary depending on your particular computer and set up. At the end of this lab, you are welcome to try training on the complete dataset and observe the impact on the model's overall accuracy. \n",
    "\n",
    "You can find the initial downsampled dataset in a subdirectory, **chest_xray**, of this repository."
   ]
  },
  {
   "cell_type": "code",
   "execution_count": 1,
   "metadata": {},
   "outputs": [
    {
     "name": "stderr",
     "output_type": "stream",
     "text": [
      "C:\\Users\\IBM\\Anaconda3\\lib\\site-packages\\h5py\\__init__.py:72: UserWarning: h5py is running against HDF5 1.10.2 when it was built against 1.10.3, this may cause problems\n",
      "  '{0}.{1}.{2}'.format(*version.hdf5_built_version_tuple)\n",
      "Using TensorFlow backend.\n"
     ]
    },
    {
     "name": "stdout",
     "output_type": "stream",
     "text": [
      "Found 1738 images belonging to 2 classes.\n",
      "Found 4 images belonging to 2 classes.\n"
     ]
    }
   ],
   "source": [
    "#Your code here; load the images; be sure to also preprocess these into tensors.\n",
    "from keras.preprocessing.image import ImageDataGenerator\n",
    "from keras.preprocessing import image\n",
    "import matplotlib.image as mpimg\n",
    "import datetime\n",
    "\n",
    "start = datetime.datetime.now()\n",
    "\n",
    "train_dir = 'chest_xray_downsampled/train/'\n",
    "val_dir = 'chest_xray_downsampled/val/'\n",
    "test_dir = 'chest_xray_downsampled/test/'\n",
    "\n",
    "train_datagen = ImageDataGenerator(rescale = 1. / 255)\n",
    "train_generator = train_datagen.flow_from_directory(\n",
    "        train_dir,\n",
    "        target_size=(150, 150),\n",
    "        batch_size=20,\n",
    "        class_mode='binary')\n",
    "\n",
    "test_datagen = ImageDataGenerator(rescale = 1. / 255)\n",
    "validation_generator = test_datagen.flow_from_directory(\n",
    "        val_dir,\n",
    "        target_size=(150, 150),\n",
    "        batch_size=20,\n",
    "        class_mode='binary')"
   ]
  },
  {
   "cell_type": "markdown",
   "metadata": {},
   "source": [
    "## Designing the Model\n",
    "\n",
    "Now it's time to design your CNN! Remember a few things when doing this: \n",
    "* You should alternate convolutional and pooling layers\n",
    "* You should have later layers have a larger number of parameters in order to detect more abstract patterns\n",
    "* Add some final dense layers to add a classifier to the convolutional base"
   ]
  },
  {
   "cell_type": "code",
   "execution_count": 2,
   "metadata": {},
   "outputs": [],
   "source": [
    "#Your code here; design and compile the model\n",
    "from keras import optimizers\n",
    "from keras import layers\n",
    "from keras import models\n",
    "\n",
    "model = models.Sequential()\n",
    "model.add(layers.Conv2D(32, (3, 3), activation='relu', input_shape=(150, 150, 3)))\n",
    "model.add(layers.MaxPooling2D((2, 2)))\n",
    "model.add(layers.Conv2D(64, (3, 3), activation='relu'))\n",
    "model.add(layers.MaxPooling2D((2, 2)))\n",
    "model.add(layers.Conv2D(128, (3, 3), activation='relu'))\n",
    "model.add(layers.MaxPooling2D((2, 2)))\n",
    "model.add(layers.Conv2D(128, (3, 3), activation='relu'))\n",
    "model.add(layers.MaxPooling2D((2, 2)))\n",
    "model.add(layers.Flatten())\n",
    "model.add(layers.Dense(512, activation='relu'))\n",
    "model.add(layers.Dense(1, activation='sigmoid'))\n",
    "\n",
    "model.compile(loss='binary_crossentropy', optimizer=optimizers.RMSprop(lr=1e-4), metrics=['acc'])"
   ]
  },
  {
   "cell_type": "markdown",
   "metadata": {},
   "source": [
    "## Training and Evaluating the Model\n",
    "\n",
    "Remember that training deep networks is resource intensive: depending on the size of the data, even a CNN with 3-4 successive convolutional and pooling layers is apt to take a hours to train on a high end laptop. Using 30 epochs and 8 layers (alternating between convolutional and pooling), our model took about 40 minutes to run on a year old macbook pro.\n",
    "\n",
    "\n",
    "If you are concerned with runtime, you may want to set your model to run the training epochs overnight.  \n",
    "\n",
    "**If you are going to run this process overnight, be sure to also script code for the following questions concerning data augmentation. Check your code twice (or more) and then set the notebook to run all, or something equivalent to have them train overnight.**"
   ]
  },
  {
   "cell_type": "code",
   "execution_count": 3,
   "metadata": {},
   "outputs": [
    {
     "name": "stdout",
     "output_type": "stream",
     "text": [
      "Epoch 1/30\n",
      "100/100 [==============================] - 122s 1s/step - loss: 0.5005 - acc: 0.7643 - val_loss: 0.7091 - val_acc: 0.7500\n",
      "Epoch 2/30\n",
      "100/100 [==============================] - 120s 1s/step - loss: 0.2826 - acc: 0.8839 - val_loss: 0.9191 - val_acc: 0.7500\n",
      "Epoch 3/30\n",
      "100/100 [==============================] - 121s 1s/step - loss: 0.1923 - acc: 0.9179 - val_loss: 0.7624 - val_acc: 0.7500\n",
      "Epoch 4/30\n",
      "100/100 [==============================] - 123s 1s/step - loss: 0.1372 - acc: 0.9439 - val_loss: 0.6027 - val_acc: 0.7500\n",
      "Epoch 5/30\n",
      "100/100 [==============================] - 124s 1s/step - loss: 0.1234 - acc: 0.9505 - val_loss: 1.2856 - val_acc: 0.5000\n",
      "Epoch 6/30\n",
      "100/100 [==============================] - 125s 1s/step - loss: 0.1043 - acc: 0.9540 - val_loss: 0.8296 - val_acc: 0.7500\n",
      "Epoch 7/30\n",
      "100/100 [==============================] - 126s 1s/step - loss: 0.0975 - acc: 0.9625 - val_loss: 0.9453 - val_acc: 0.7500\n",
      "Epoch 8/30\n",
      "100/100 [==============================] - 127s 1s/step - loss: 0.0873 - acc: 0.9680 - val_loss: 0.7457 - val_acc: 0.7500\n",
      "Epoch 9/30\n",
      "100/100 [==============================] - 127s 1s/step - loss: 0.0795 - acc: 0.9710 - val_loss: 1.7076 - val_acc: 0.5000\n",
      "Epoch 10/30\n",
      "100/100 [==============================] - 128s 1s/step - loss: 0.0663 - acc: 0.9760 - val_loss: 1.6586 - val_acc: 0.5000\n",
      "Epoch 11/30\n",
      "100/100 [==============================] - 128s 1s/step - loss: 0.0511 - acc: 0.9850 - val_loss: 2.2963 - val_acc: 0.5000\n",
      "Epoch 12/30\n",
      "100/100 [==============================] - 129s 1s/step - loss: 0.0550 - acc: 0.9785 - val_loss: 2.0213 - val_acc: 0.7500\n",
      "Epoch 13/30\n",
      "100/100 [==============================] - 127s 1s/step - loss: 0.0505 - acc: 0.9795 - val_loss: 1.7885 - val_acc: 0.5000\n",
      "Epoch 14/30\n",
      "100/100 [==============================] - 128s 1s/step - loss: 0.0426 - acc: 0.9860 - val_loss: 1.5326 - val_acc: 0.7500\n",
      "Epoch 15/30\n",
      "100/100 [==============================] - 128s 1s/step - loss: 0.0405 - acc: 0.9860 - val_loss: 1.4498 - val_acc: 0.7500\n",
      "Epoch 16/30\n",
      "100/100 [==============================] - 128s 1s/step - loss: 0.0337 - acc: 0.9865 - val_loss: 1.0391 - val_acc: 0.5000\n",
      "Epoch 17/30\n",
      "100/100 [==============================] - 129s 1s/step - loss: 0.0319 - acc: 0.9870 - val_loss: 2.4031 - val_acc: 0.5000\n",
      "Epoch 18/30\n",
      "100/100 [==============================] - 128s 1s/step - loss: 0.0296 - acc: 0.9885 - val_loss: 1.1837 - val_acc: 0.7500\n",
      "Epoch 19/30\n",
      "100/100 [==============================] - 128s 1s/step - loss: 0.0196 - acc: 0.9935 - val_loss: 1.4154 - val_acc: 0.7500\n",
      "Epoch 20/30\n",
      "100/100 [==============================] - 129s 1s/step - loss: 0.0184 - acc: 0.9920 - val_loss: 1.4804 - val_acc: 0.7500\n",
      "Epoch 21/30\n",
      "100/100 [==============================] - 129s 1s/step - loss: 0.0181 - acc: 0.9945 - val_loss: 1.7524 - val_acc: 0.7500\n",
      "Epoch 22/30\n",
      "100/100 [==============================] - 151s 2s/step - loss: 0.0163 - acc: 0.9940 - val_loss: 1.7088 - val_acc: 0.7500\n",
      "Epoch 23/30\n",
      "100/100 [==============================] - 142s 1s/step - loss: 0.0110 - acc: 0.9985 - val_loss: 1.4761 - val_acc: 0.7500\n",
      "Epoch 24/30\n",
      "100/100 [==============================] - 159s 2s/step - loss: 0.0113 - acc: 0.9955 - val_loss: 2.3277 - val_acc: 0.7500\n",
      "Epoch 25/30\n",
      "100/100 [==============================] - 133s 1s/step - loss: 0.0150 - acc: 0.9955 - val_loss: 1.9125 - val_acc: 0.7500\n",
      "Epoch 26/30\n",
      "100/100 [==============================] - 133s 1s/step - loss: 0.0070 - acc: 0.9975 - val_loss: 1.8953 - val_acc: 0.7500\n",
      "Epoch 27/30\n",
      "100/100 [==============================] - 131s 1s/step - loss: 0.0066 - acc: 0.9980 - val_loss: 2.3235 - val_acc: 0.7500\n",
      "Epoch 28/30\n",
      "100/100 [==============================] - 131s 1s/step - loss: 0.0053 - acc: 0.9980 - val_loss: 1.4147 - val_acc: 0.7500\n",
      "Epoch 29/30\n",
      "100/100 [==============================] - 132s 1s/step - loss: 0.0069 - acc: 0.9990 - val_loss: 2.4705 - val_acc: 0.7500\n",
      "Epoch 30/30\n",
      "100/100 [==============================] - 131s 1s/step - loss: 0.0053 - acc: 0.9975 - val_loss: 1.3534 - val_acc: 0.7500\n"
     ]
    }
   ],
   "source": [
    "#Set the model to train; see warnings above\n",
    "#!pip install pillow\n",
    "# import PIL\n",
    "\n",
    "history = model.fit_generator(\n",
    "      train_generator,\n",
    "      steps_per_epoch=100,\n",
    "      epochs=30,\n",
    "      validation_data=validation_generator, \n",
    "      validation_steps=50)"
   ]
  },
  {
   "cell_type": "code",
   "execution_count": 4,
   "metadata": {},
   "outputs": [
    {
     "data": {
      "image/png": "[encoded data removed]",
      "text/plain": [
       "<Figure size 432x288 with 1 Axes>"
      ]
     },
     "metadata": {
      "needs_background": "light"
     },
     "output_type": "display_data"
    },
    {
     "data": {
      "image/png": "[encoded data removed]",
      "text/plain": [
       "<Figure size 432x288 with 1 Axes>"
      ]
     },
     "metadata": {
      "needs_background": "light"
     },
     "output_type": "display_data"
    },
    {
     "name": "stdout",
     "output_type": "stream",
     "text": [
      "Initial Model Data Import and Training Time: 1:05:01.802304\n"
     ]
    }
   ],
   "source": [
    "# Plot history\n",
    "import matplotlib.pyplot as plt\n",
    "%matplotlib inline \n",
    "\n",
    "acc = history.history['acc']\n",
    "val_acc = history.history['val_acc']\n",
    "loss = history.history['loss']\n",
    "val_loss = history.history['val_loss']\n",
    "epochs = range(len(acc))\n",
    "\n",
    "plt.plot(epochs, acc, 'g', label='Training Accuracy')\n",
    "plt.plot(epochs, val_acc, 'b', label='Validation Acuracy')\n",
    "plt.title('Initial Model: Training and Validation Accuracy')\n",
    "plt.legend()\n",
    "plt.figure()\n",
    "\n",
    "plt.plot(epochs, loss, 'g', label='Training Loss')\n",
    "plt.plot(epochs, val_loss, 'b', label='Validation Loss')\n",
    "plt.title('Initial Model: Training and Validation Loss')\n",
    "plt.legend()\n",
    "plt.show()\n",
    "\n",
    "end = datetime.datetime.now()\n",
    "elapsed = end - start\n",
    "print('Initial Model Data Import and Training Time: {}'.format(elapsed))"
   ]
  },
  {
   "cell_type": "markdown",
   "metadata": {},
   "source": [
    "## Save the Model"
   ]
  },
  {
   "cell_type": "code",
   "execution_count": 5,
   "metadata": {},
   "outputs": [],
   "source": [
    "#Your code here; save the model for future reference.\n",
    "model.save('chest_xray_downsampled_model.h5')"
   ]
  },
  {
   "cell_type": "markdown",
   "metadata": {},
   "source": [
    "## Data Augmentation\n",
    "\n",
    "Recall that data augmentation is typically always a necessary step when using a small dataset as this one which you have been provided. As such, if you haven't already, implement a data augmentation setup.\n",
    "\n",
    "**Warning: ⏰ This process took nearly 4 hours to run on a relatively new macbook pro. As such, it is recommended that you simply code the setup and compare to the solution branch, or set the process to run overnight if you do choose to actually run the code.**"
   ]
  },
  {
   "cell_type": "code",
   "execution_count": 6,
   "metadata": {},
   "outputs": [
    {
     "name": "stdout",
     "output_type": "stream",
     "text": [
      "Found 1738 images belonging to 2 classes.\n",
      "Found 4 images belonging to 2 classes.\n",
      "Epoch 1/100\n",
      "100/100 [==============================] - 210s 2s/step - loss: 81.0145 - acc: 0.7259 - val_loss: 0.6272 - val_acc: 0.7500\n",
      "Epoch 2/100\n",
      "100/100 [==============================] - 212s 2s/step - loss: 3.6603 - acc: 0.7677 - val_loss: 0.6717 - val_acc: 0.7500\n",
      "Epoch 3/100\n",
      "100/100 [==============================] - 212s 2s/step - loss: 1.3854 - acc: 0.7753 - val_loss: 0.6857 - val_acc: 0.5000\n",
      "Epoch 4/100\n",
      "100/100 [==============================] - 220s 2s/step - loss: 0.7353 - acc: 0.7878 - val_loss: 0.6860 - val_acc: 0.5000\n",
      "Epoch 5/100\n",
      "100/100 [==============================] - 235s 2s/step - loss: 0.4927 - acc: 0.8143 - val_loss: 0.6904 - val_acc: 0.5000\n",
      "Epoch 6/100\n",
      "100/100 [==============================] - 225s 2s/step - loss: 0.4626 - acc: 0.8203 - val_loss: 0.6933 - val_acc: 0.5000\n",
      "Epoch 7/100\n",
      "100/100 [==============================] - 211s 2s/step - loss: 0.4089 - acc: 0.8295 - val_loss: 0.6927 - val_acc: 0.5000\n",
      "Epoch 8/100\n",
      "100/100 [==============================] - 209s 2s/step - loss: 0.3878 - acc: 0.8430 - val_loss: 0.6926 - val_acc: 0.5000\n",
      "Epoch 9/100\n",
      "100/100 [==============================] - 209s 2s/step - loss: 0.3543 - acc: 0.8516 - val_loss: 0.6932 - val_acc: 0.5000\n",
      "Epoch 10/100\n",
      "100/100 [==============================] - 209s 2s/step - loss: 0.3446 - acc: 0.8631 - val_loss: 0.6961 - val_acc: 0.5000\n",
      "Epoch 11/100\n",
      "100/100 [==============================] - 220s 2s/step - loss: 0.3168 - acc: 0.8701 - val_loss: 0.6965 - val_acc: 0.5000\n",
      "Epoch 12/100\n",
      "100/100 [==============================] - 208s 2s/step - loss: 0.3232 - acc: 0.8729 - val_loss: 0.6977 - val_acc: 0.5000\n",
      "Epoch 13/100\n",
      "100/100 [==============================] - 213s 2s/step - loss: 0.3094 - acc: 0.8720 - val_loss: 0.6963 - val_acc: 0.5000\n",
      "Epoch 14/100\n",
      "100/100 [==============================] - 210s 2s/step - loss: 0.2898 - acc: 0.8795 - val_loss: 0.6993 - val_acc: 0.5000\n",
      "Epoch 15/100\n",
      "100/100 [==============================] - 207s 2s/step - loss: 0.2889 - acc: 0.8783 - val_loss: 0.6975 - val_acc: 0.5000\n",
      "Epoch 16/100\n",
      "100/100 [==============================] - 205s 2s/step - loss: 0.2867 - acc: 0.8918 - val_loss: 0.6970 - val_acc: 0.5000\n",
      "Epoch 17/100\n",
      "100/100 [==============================] - 208s 2s/step - loss: 0.2852 - acc: 0.8833 - val_loss: 0.6989 - val_acc: 0.5000\n",
      "Epoch 18/100\n",
      "100/100 [==============================] - 210s 2s/step - loss: 0.2538 - acc: 0.8932 - val_loss: 0.6990 - val_acc: 0.5000\n",
      "Epoch 19/100\n",
      "100/100 [==============================] - 211s 2s/step - loss: 0.2829 - acc: 0.8776 - val_loss: 0.6987 - val_acc: 0.5000\n",
      "Epoch 20/100\n",
      "100/100 [==============================] - 207s 2s/step - loss: 0.2505 - acc: 0.8980 - val_loss: 0.7012 - val_acc: 0.5000\n",
      "Epoch 21/100\n",
      "100/100 [==============================] - 206s 2s/step - loss: 0.2619 - acc: 0.8925 - val_loss: 0.7021 - val_acc: 0.5000\n",
      "Epoch 22/100\n",
      "100/100 [==============================] - 208s 2s/step - loss: 0.2448 - acc: 0.9043 - val_loss: 0.7003 - val_acc: 0.5000\n",
      "Epoch 23/100\n",
      "100/100 [==============================] - 207s 2s/step - loss: 0.2402 - acc: 0.9081 - val_loss: 0.7077 - val_acc: 0.5000\n",
      "Epoch 24/100\n",
      "100/100 [==============================] - 208s 2s/step - loss: 0.2436 - acc: 0.9049 - val_loss: 0.7002 - val_acc: 0.5000\n",
      "Epoch 25/100\n",
      "100/100 [==============================] - 209s 2s/step - loss: 0.2358 - acc: 0.9084 - val_loss: 0.7054 - val_acc: 0.5000\n",
      "Epoch 26/100\n",
      "100/100 [==============================] - 217s 2s/step - loss: 0.2226 - acc: 0.9091 - val_loss: 0.7040 - val_acc: 0.5000\n",
      "Epoch 27/100\n",
      "100/100 [==============================] - 208s 2s/step - loss: 0.2318 - acc: 0.9116 - val_loss: 0.7026 - val_acc: 0.5000\n",
      "Epoch 28/100\n",
      "100/100 [==============================] - 210s 2s/step - loss: 0.2312 - acc: 0.9068 - val_loss: 0.6977 - val_acc: 0.5000\n",
      "Epoch 29/100\n",
      "100/100 [==============================] - 223s 2s/step - loss: 0.2214 - acc: 0.9078 - val_loss: 0.7017 - val_acc: 0.5000\n",
      "Epoch 30/100\n",
      "100/100 [==============================] - 213s 2s/step - loss: 0.2268 - acc: 0.9056 - val_loss: 0.7031 - val_acc: 0.5000\n",
      "Epoch 31/100\n",
      "100/100 [==============================] - 227s 2s/step - loss: 0.2168 - acc: 0.9135 - val_loss: 0.7054 - val_acc: 0.5000\n",
      "Epoch 32/100\n",
      "100/100 [==============================] - 233s 2s/step - loss: 0.2218 - acc: 0.9138 - val_loss: 0.7055 - val_acc: 0.5000\n",
      "Epoch 33/100\n",
      "100/100 [==============================] - 211s 2s/step - loss: 0.2107 - acc: 0.9141 - val_loss: 0.7151 - val_acc: 0.5000\n",
      "Epoch 34/100\n",
      "100/100 [==============================] - 240s 2s/step - loss: 0.2045 - acc: 0.9204 - val_loss: 0.7127 - val_acc: 0.5000\n",
      "Epoch 35/100\n",
      "100/100 [==============================] - 210s 2s/step - loss: 0.1983 - acc: 0.9198 - val_loss: 0.7068 - val_acc: 0.5000\n",
      "Epoch 36/100\n",
      "100/100 [==============================] - 225s 2s/step - loss: 0.2315 - acc: 0.9103 - val_loss: 0.7064 - val_acc: 0.5000\n",
      "Epoch 37/100\n",
      "100/100 [==============================] - 249s 2s/step - loss: 0.2036 - acc: 0.9106 - val_loss: 0.7074 - val_acc: 0.5000\n",
      "Epoch 38/100\n",
      "100/100 [==============================] - 288s 3s/step - loss: 0.2063 - acc: 0.9148 - val_loss: 0.7175 - val_acc: 0.5000\n",
      "Epoch 39/100\n",
      "100/100 [==============================] - 270s 3s/step - loss: 0.1920 - acc: 0.9243 - val_loss: 0.7255 - val_acc: 0.5000\n",
      "Epoch 40/100\n",
      "100/100 [==============================] - 218s 2s/step - loss: 0.1986 - acc: 0.9195 - val_loss: 0.7219 - val_acc: 0.5000\n",
      "Epoch 41/100\n",
      "100/100 [==============================] - 213s 2s/step - loss: 0.2058 - acc: 0.9214 - val_loss: 0.7285 - val_acc: 0.5000\n",
      "Epoch 42/100\n",
      "100/100 [==============================] - 212s 2s/step - loss: 0.2066 - acc: 0.9232 - val_loss: 0.7114 - val_acc: 0.5000\n",
      "Epoch 43/100\n",
      "100/100 [==============================] - 213s 2s/step - loss: 0.2008 - acc: 0.9202 - val_loss: 0.7313 - val_acc: 0.5000\n",
      "Epoch 44/100\n",
      "100/100 [==============================] - 211s 2s/step - loss: 0.1931 - acc: 0.9198 - val_loss: 0.7227 - val_acc: 0.5000\n",
      "Epoch 45/100\n",
      "100/100 [==============================] - 210s 2s/step - loss: 0.1922 - acc: 0.9312 - val_loss: 0.7413 - val_acc: 0.5000\n",
      "Epoch 46/100\n",
      "100/100 [==============================] - 212s 2s/step - loss: 0.1879 - acc: 0.9274 - val_loss: 0.7241 - val_acc: 0.5000\n",
      "Epoch 47/100\n",
      "100/100 [==============================] - 214s 2s/step - loss: 0.1989 - acc: 0.9157 - val_loss: 0.7325 - val_acc: 0.5000\n",
      "Epoch 48/100\n",
      "100/100 [==============================] - 208s 2s/step - loss: 0.2016 - acc: 0.9247 - val_loss: 0.7131 - val_acc: 0.5000\n",
      "Epoch 49/100\n",
      "100/100 [==============================] - 212s 2s/step - loss: 0.1830 - acc: 0.9289 - val_loss: 0.7111 - val_acc: 0.5000\n",
      "Epoch 50/100\n",
      "100/100 [==============================] - 209s 2s/step - loss: 0.1839 - acc: 0.9274 - val_loss: 0.7272 - val_acc: 0.5000\n",
      "Epoch 51/100\n",
      "100/100 [==============================] - 213s 2s/step - loss: 0.1964 - acc: 0.9290 - val_loss: 0.7243 - val_acc: 0.5000\n",
      "Epoch 52/100\n",
      "100/100 [==============================] - 210s 2s/step - loss: 0.1854 - acc: 0.9243 - val_loss: 0.7507 - val_acc: 0.5000\n",
      "Epoch 53/100\n",
      "100/100 [==============================] - 211s 2s/step - loss: 0.1926 - acc: 0.9309 - val_loss: 0.7430 - val_acc: 0.5000\n",
      "Epoch 54/100\n",
      "100/100 [==============================] - 212s 2s/step - loss: 0.1927 - acc: 0.9308 - val_loss: 0.7314 - val_acc: 0.5000\n",
      "Epoch 55/100\n",
      "100/100 [==============================] - 209s 2s/step - loss: 0.1853 - acc: 0.9325 - val_loss: 0.7502 - val_acc: 0.5000\n",
      "Epoch 56/100\n",
      "100/100 [==============================] - 208s 2s/step - loss: 0.1920 - acc: 0.9281 - val_loss: 0.7403 - val_acc: 0.5000\n",
      "Epoch 57/100\n",
      "100/100 [==============================] - 208s 2s/step - loss: 0.1962 - acc: 0.9240 - val_loss: 0.7424 - val_acc: 0.5000\n",
      "Epoch 58/100\n",
      "100/100 [==============================] - 207s 2s/step - loss: 0.1855 - acc: 0.9309 - val_loss: 0.7845 - val_acc: 0.5000\n",
      "Epoch 59/100\n",
      "100/100 [==============================] - 209s 2s/step - loss: 0.1851 - acc: 0.9276 - val_loss: 0.7552 - val_acc: 0.5000\n",
      "Epoch 60/100\n",
      "100/100 [==============================] - 212s 2s/step - loss: 0.1985 - acc: 0.9297 - val_loss: 0.7259 - val_acc: 0.5000\n",
      "Epoch 61/100\n"
     ]
    },
    {
     "name": "stdout",
     "output_type": "stream",
     "text": [
      "100/100 [==============================] - 212s 2s/step - loss: 0.1805 - acc: 0.9284 - val_loss: 0.7584 - val_acc: 0.5000\n",
      "Epoch 62/100\n",
      "100/100 [==============================] - 209s 2s/step - loss: 0.1884 - acc: 0.9287 - val_loss: 0.7505 - val_acc: 0.5000\n",
      "Epoch 63/100\n",
      "100/100 [==============================] - 207s 2s/step - loss: 0.1856 - acc: 0.9278 - val_loss: 0.7328 - val_acc: 0.5000\n",
      "Epoch 64/100\n",
      "100/100 [==============================] - 208s 2s/step - loss: 0.1851 - acc: 0.9273 - val_loss: 0.7466 - val_acc: 0.5000\n",
      "Epoch 65/100\n",
      "100/100 [==============================] - 206s 2s/step - loss: 0.1917 - acc: 0.9292 - val_loss: 0.7131 - val_acc: 0.5000\n",
      "Epoch 66/100\n",
      "100/100 [==============================] - 207s 2s/step - loss: 0.1864 - acc: 0.9286 - val_loss: 0.7265 - val_acc: 0.5000\n",
      "Epoch 67/100\n",
      "100/100 [==============================] - 206s 2s/step - loss: 0.1972 - acc: 0.9335 - val_loss: 0.7528 - val_acc: 0.5000\n",
      "Epoch 68/100\n",
      "100/100 [==============================] - 207s 2s/step - loss: 0.1891 - acc: 0.9255 - val_loss: 0.7967 - val_acc: 0.5000\n",
      "Epoch 69/100\n",
      "100/100 [==============================] - 208s 2s/step - loss: 0.1751 - acc: 0.9383 - val_loss: 0.8156 - val_acc: 0.5000\n",
      "Epoch 70/100\n",
      "100/100 [==============================] - 204s 2s/step - loss: 0.1725 - acc: 0.9362 - val_loss: 0.7948 - val_acc: 0.5000\n",
      "Epoch 71/100\n",
      "100/100 [==============================] - 206s 2s/step - loss: 0.1793 - acc: 0.9330 - val_loss: 0.7856 - val_acc: 0.5000\n",
      "Epoch 72/100\n",
      "100/100 [==============================] - 203s 2s/step - loss: 0.1781 - acc: 0.9322 - val_loss: 0.7795 - val_acc: 0.5000\n",
      "Epoch 73/100\n",
      "100/100 [==============================] - 207s 2s/step - loss: 0.1836 - acc: 0.9312 - val_loss: 0.8060 - val_acc: 0.5000\n",
      "Epoch 74/100\n",
      "100/100 [==============================] - 204s 2s/step - loss: 0.1692 - acc: 0.9388 - val_loss: 0.8781 - val_acc: 0.5000\n",
      "Epoch 75/100\n",
      "100/100 [==============================] - 205s 2s/step - loss: 0.1653 - acc: 0.9361 - val_loss: 0.8268 - val_acc: 0.5000\n",
      "Epoch 76/100\n",
      "100/100 [==============================] - 204s 2s/step - loss: 0.1753 - acc: 0.9303 - val_loss: 0.9076 - val_acc: 0.5000\n",
      "Epoch 77/100\n",
      "100/100 [==============================] - 202s 2s/step - loss: 0.1683 - acc: 0.9322 - val_loss: 0.8263 - val_acc: 0.5000\n",
      "Epoch 78/100\n",
      "100/100 [==============================] - 205s 2s/step - loss: 0.1736 - acc: 0.9322 - val_loss: 0.9602 - val_acc: 0.5000\n",
      "Epoch 79/100\n",
      "100/100 [==============================] - 206s 2s/step - loss: 0.1637 - acc: 0.9392 - val_loss: 0.8578 - val_acc: 0.5000\n",
      "Epoch 80/100\n",
      "100/100 [==============================] - 205s 2s/step - loss: 0.1792 - acc: 0.9320 - val_loss: 0.8718 - val_acc: 0.5000\n",
      "Epoch 81/100\n",
      "100/100 [==============================] - 203s 2s/step - loss: 0.1625 - acc: 0.9365 - val_loss: 0.8839 - val_acc: 0.5000\n",
      "Epoch 82/100\n",
      "100/100 [==============================] - 206s 2s/step - loss: 0.1861 - acc: 0.9323 - val_loss: 0.9542 - val_acc: 0.5000\n",
      "Epoch 83/100\n",
      "100/100 [==============================] - 206s 2s/step - loss: 0.1648 - acc: 0.9398 - val_loss: 0.9480 - val_acc: 0.5000\n",
      "Epoch 84/100\n",
      "100/100 [==============================] - 234s 2s/step - loss: 0.1748 - acc: 0.9379 - val_loss: 0.9184 - val_acc: 0.5000\n",
      "Epoch 85/100\n",
      "100/100 [==============================] - 237s 2s/step - loss: 0.1902 - acc: 0.9319 - val_loss: 0.9593 - val_acc: 0.5000\n",
      "Epoch 86/100\n",
      "100/100 [==============================] - 313s 3s/step - loss: 0.1686 - acc: 0.9354 - val_loss: 0.8824 - val_acc: 0.5000\n",
      "Epoch 87/100\n",
      "100/100 [==============================] - 289s 3s/step - loss: 0.1907 - acc: 0.9446 - val_loss: 0.9254 - val_acc: 0.5000\n",
      "Epoch 88/100\n",
      "100/100 [==============================] - 248s 2s/step - loss: 0.1818 - acc: 0.9312 - val_loss: 1.0035 - val_acc: 0.5000\n",
      "Epoch 89/100\n",
      "100/100 [==============================] - 223s 2s/step - loss: 0.1675 - acc: 0.9385 - val_loss: 0.9292 - val_acc: 0.5000\n",
      "Epoch 90/100\n",
      "100/100 [==============================] - 303s 3s/step - loss: 0.2039 - acc: 0.9346 - val_loss: 0.9635 - val_acc: 0.5000\n",
      "Epoch 91/100\n",
      "100/100 [==============================] - 264s 3s/step - loss: 0.1551 - acc: 0.9445 - val_loss: 1.0544 - val_acc: 0.5000\n",
      "Epoch 92/100\n",
      "100/100 [==============================] - 262s 3s/step - loss: 0.1774 - acc: 0.9317 - val_loss: 1.1531 - val_acc: 0.5000\n",
      "Epoch 93/100\n",
      "100/100 [==============================] - 215s 2s/step - loss: 0.1771 - acc: 0.9347 - val_loss: 1.0505 - val_acc: 0.5000\n",
      "Epoch 94/100\n",
      "100/100 [==============================] - 250s 2s/step - loss: 0.1659 - acc: 0.9411 - val_loss: 0.9723 - val_acc: 0.5000\n",
      "Epoch 95/100\n",
      "100/100 [==============================] - 258s 3s/step - loss: 0.1702 - acc: 0.9363 - val_loss: 1.1506 - val_acc: 0.5000\n",
      "Epoch 96/100\n",
      "100/100 [==============================] - 228s 2s/step - loss: 0.1798 - acc: 0.9336 - val_loss: 1.0919 - val_acc: 0.5000\n",
      "Epoch 97/100\n",
      "100/100 [==============================] - 221s 2s/step - loss: 0.2004 - acc: 0.9382 - val_loss: 1.2075 - val_acc: 0.5000\n",
      "Epoch 98/100\n",
      "100/100 [==============================] - 211s 2s/step - loss: 0.1919 - acc: 0.9300 - val_loss: 1.0222 - val_acc: 0.5000\n",
      "Epoch 99/100\n",
      "100/100 [==============================] - 210s 2s/step - loss: 0.1619 - acc: 0.9430 - val_loss: 1.0402 - val_acc: 0.5000\n",
      "Epoch 100/100\n",
      "100/100 [==============================] - 209s 2s/step - loss: 0.1576 - acc: 0.9376 - val_loss: 1.1017 - val_acc: 0.5000\n"
     ]
    }
   ],
   "source": [
    "#Add data augmentation to the model setup and set the model to train; \n",
    "#See warnings above if you intend to run this block of code\n",
    "start = datetime.datetime.now()\n",
    "\n",
    "train_datagen = ImageDataGenerator(\n",
    "      rotation_range=40,\n",
    "      width_shift_range=0.2,\n",
    "      height_shift_range=0.2,\n",
    "      shear_range=0.2,\n",
    "      zoom_range=0.2,\n",
    "      horizontal_flip=True,\n",
    "      fill_mode='nearest')\n",
    "\n",
    "train_generator = train_datagen.flow_from_directory(\n",
    "        train_dir,\n",
    "        target_size=(150, 150),\n",
    "        batch_size=32,\n",
    "        class_mode='binary')\n",
    "\n",
    "validation_generator = test_datagen.flow_from_directory(\n",
    "        val_dir,\n",
    "        target_size=(150, 150),\n",
    "        batch_size=32,\n",
    "        class_mode='binary')\n",
    "\n",
    "history = model.fit_generator(\n",
    "      train_generator,\n",
    "      steps_per_epoch=100,\n",
    "      epochs=100,\n",
    "      validation_data=validation_generator,\n",
    "      validation_steps=50)"
   ]
  },
  {
   "cell_type": "code",
   "execution_count": 8,
   "metadata": {},
   "outputs": [
    {
     "data": {
      "image/png": "[encoded data removed]",
      "text/plain": [
       "<Figure size 432x288 with 1 Axes>"
      ]
     },
     "metadata": {
      "needs_background": "light"
     },
     "output_type": "display_data"
    },
    {
     "data": {
      "image/png": "[encoded data removed]",
      "text/plain": [
       "<Figure size 432x288 with 1 Axes>"
      ]
     },
     "metadata": {
      "needs_background": "light"
     },
     "output_type": "display_data"
    },
    {
     "name": "stdout",
     "output_type": "stream",
     "text": [
      "Augmented Model Data Import and Training Time: 9:46:11.555034\n"
     ]
    }
   ],
   "source": [
    "acc = history.history['acc']\n",
    "val_acc = history.history['val_acc']\n",
    "loss = history.history['loss']\n",
    "val_loss = history.history['val_loss']\n",
    "epochs = range(len(acc))\n",
    "\n",
    "plt.plot(epochs, acc, 'g', label='Training Accuracy')\n",
    "plt.plot(epochs, val_acc, 'b', label='Validation Accuracy')\n",
    "plt.title('Augmented Model: Training and Validation Accuracy')\n",
    "plt.legend()\n",
    "plt.figure()\n",
    "\n",
    "plt.plot(epochs, loss, 'g', label='Training Loss')\n",
    "plt.plot(epochs, val_loss, 'b', label='Validation Loss')\n",
    "plt.title('Augmented Model: Training and Validation Loss')\n",
    "plt.legend()\n",
    "plt.show()\n",
    "\n",
    "end = datetime.datetime.now()\n",
    "elapsed = end - start\n",
    "print('Augmented Model Data Import and Training Time: {}'.format(elapsed))\n",
    "\n",
    "model.save('chest_xray_downsampled_augmented_model.h5')"
   ]
  },
  {
   "cell_type": "markdown",
   "metadata": {},
   "source": [
    "## Final Evaluation\n",
    "\n",
    "Now use the test set to perform a final evaluation on your model of choice."
   ]
  },
  {
   "cell_type": "code",
   "execution_count": 9,
   "metadata": {},
   "outputs": [
    {
     "name": "stdout",
     "output_type": "stream",
     "text": [
      "Found 208 images belonging to 2 classes.\n",
      "Test Loss: 0.6873337626457214\n",
      "Test Accuracy: 0.625\n"
     ]
    }
   ],
   "source": [
    "# Your code here; perform a final evaluation using the test set..\n",
    "test_generator = test_datagen.flow_from_directory(\n",
    "        test_dir,\n",
    "        target_size=(150, 150),\n",
    "        batch_size=20,\n",
    "        class_mode='binary')\n",
    "\n",
    "test_loss, test_acc = model.evaluate_generator(test_generator, steps=50)\n",
    "print('Test Loss:', test_loss)\n",
    "print('Test Accuracy:', test_acc)"
   ]
  },
  {
   "cell_type": "markdown",
   "metadata": {},
   "source": [
    "## Extension: Adding Data to the Model\n",
    "\n",
    "As discussed, the current dataset we worked with is a subset of a dataset hosted on Kaggle. Increasing the data that we use to train the model will result in additional performance gains but will also result in longer training times and be more resource intensive.   \n",
    "\n",
    "⏰ It is estimated that training on the full dataset will take approximately 4 hours (and potentially significantly longer) depending on your computer's specifications.\n",
    "\n",
    "In order to test the impact of training on the full dataset, start by downloading the data from kaggle here: https://www.kaggle.com/paultimothymooney/chest-xray-pneumonia.   "
   ]
  },
  {
   "cell_type": "code",
   "execution_count": null,
   "metadata": {},
   "outputs": [],
   "source": [
    "#Optional extension; Your code here"
   ]
  },
  {
   "cell_type": "markdown",
   "metadata": {},
   "source": [
    "## Summary\n",
    "\n",
    "Well done! In this lab, you practice building your own CNN for image recognition which drastically outperformed our previous attempts using a standard deep learning model alone. In the upcoming sections, we'll continue to investigate further techniques associated with CNNs including visualizing the representations they learn and techniques to further bolster their performance when we have limited training data such as here."
   ]
  }
 ],
 "metadata": {
  "kernelspec": {
   "display_name": "Python 3",
   "language": "python",
   "name": "python3"
  },
  "language_info": {
   "codemirror_mode": {
    "name": "ipython",
    "version": 3
   },
   "file_extension": ".py",
   "mimetype": "text/x-python",
   "name": "python",
   "nbconvert_exporter": "python",
   "pygments_lexer": "ipython3",
   "version": "3.6.7"
  },
  "toc": {
   "base_numbering": 1,
   "nav_menu": {},
   "number_sections": true,
   "sideBar": true,
   "skip_h1_title": false,
   "title_cell": "Table of Contents",
   "title_sidebar": "Contents",
   "toc_cell": false,
   "toc_position": {},
   "toc_section_display": true,
   "toc_window_display": false
  }
 },
 "nbformat": 4,
 "nbformat_minor": 2
}
